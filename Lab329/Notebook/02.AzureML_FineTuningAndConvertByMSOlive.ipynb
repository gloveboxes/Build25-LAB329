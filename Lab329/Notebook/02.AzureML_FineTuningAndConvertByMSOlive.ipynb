{
 "cells": [
  {
   "cell_type": "markdown",
   "id": "6f080269",
   "metadata": {
    "vscode": {
     "languageId": "plaintext"
    }
   },
   "source": [
    " Login to your azure account az login - device"
   ]
  },
  {
   "cell_type": "code",
   "execution_count": null,
   "id": "e679da5f",
   "metadata": {
    "gather": {
     "logged": 1744963249558
    },
    "vscode": {
     "languageId": "plaintext"
    }
   },
   "outputs": [],
   "source": [
    "pip  install torch torchvision torchaudio --index-url https://download.pytorch.org/whl/cu124 -U"
   ]
  },
  {
   "cell_type": "code",
   "execution_count": null,
   "id": "89f3ef60",
   "metadata": {
    "vscode": {
     "languageId": "plaintext"
    }
   },
   "outputs": [],
   "source": [
    "! pip install olive-ai[auto-opt] -U"
   ]
  },
  {
   "cell_type": "code",
   "execution_count": null,
   "id": "69907a09",
   "metadata": {
    "gather": {
     "logged": 1744963274226
    },
    "vscode": {
     "languageId": "plaintext"
    }
   },
   "outputs": [],
   "source": [
    "pip install onnxruntime-genai==0.7.0 --pre"
   ]
  },
  {
   "cell_type": "code",
   "execution_count": null,
   "id": "0cdfae44",
   "metadata": {
    "vscode": {
     "languageId": "plaintext"
    }
   },
   "outputs": [],
   "source": [
    "! pip install onnxruntime"
   ]
  },
  {
   "cell_type": "code",
   "execution_count": null,
   "id": "67c74e5e",
   "metadata": {
    "vscode": {
     "languageId": "plaintext"
    }
   },
   "outputs": [],
   "source": [
    "! pip install bitsandbytes"
   ]
  },
  {
   "cell_type": "code",
   "execution_count": null,
   "id": "96b0305c",
   "metadata": {
    "vscode": {
     "languageId": "plaintext"
    }
   },
   "outputs": [],
   "source": [
    "! pip install transformers==4.49.0 -U"
   ]
  },
  {
   "cell_type": "code",
   "execution_count": null,
   "id": "fd93b0a9",
   "metadata": {
    "vscode": {
     "languageId": "plaintext"
    }
   },
   "outputs": [],
   "source": [
    "! pip install azure-ai-ml -U  "
   ]
  },
  {
   "cell_type": "code",
   "execution_count": null,
   "id": "66fb7020",
   "metadata": {
    "vscode": {
     "languageId": "plaintext"
    }
   },
   "outputs": [],
   "source": [
    "! pip install marshmallow==3.23.2 -U   "
   ]
  },
  {
   "cell_type": "code",
   "execution_count": null,
   "id": "45b21c43",
   "metadata": {
    "vscode": {
     "languageId": "plaintext"
    }
   },
   "outputs": [],
   "source": [
    "! pip install tf-keras"
   ]
  },
  {
   "cell_type": "code",
   "execution_count": null,
   "id": "8207d88c",
   "metadata": {
    "vscode": {
     "languageId": "plaintext"
    }
   },
   "outputs": [],
   "source": [
    "! pip install numpy==1.23.5 -U"
   ]
  },
  {
   "cell_type": "code",
   "execution_count": null,
   "id": "692ca04b-6242-42c7-8dff-3d5f8b1122b8",
   "metadata": {},
   "outputs": [],
   "source": [
    "! pip install peft"
   ]
  },
  {
   "cell_type": "code",
   "execution_count": null,
   "id": "22241278",
   "metadata": {
    "gather": {
     "logged": 1744964309865
    },
    "vscode": {
     "languageId": "plaintext"
    }
   },
   "outputs": [],
   "source": [
    "! olive finetune \\\n",
    "    --method lora \\\n",
    "    --model_name_or_path  azureml://registries/azureml/models/Phi-4-mini-instruct/versions/1 \\\n",
    "    --trust_remote_code \\\n",
    "    --data_name json \\\n",
    "    --data_files ./data/train_data.jsonl \\\n",
    "    --text_template \"<|user|>{Question}<|end|><|assistant|>{Answer}<|end|>\" \\\n",
    "    --max_steps 100 \\\n",
    "    --output_path models/phi-4-mini/ft \\\n",
    "    --target_modules \"q_proj\",\"k_proj\",\"v_proj\",\"o_proj\",\"gate_proj\",\"up_proj\",\"down_proj\" \\\n",
    "    --log_level 1"
   ]
  },
  {
   "cell_type": "code",
   "execution_count": null,
   "id": "b03d6cc0-db61-4613-bc89-42fa13c06440",
   "metadata": {},
   "outputs": [],
   "source": [
    "! pip install onnxruntime-genai==0.7.0 --pre"
   ]
  },
  {
   "cell_type": "code",
   "execution_count": null,
   "id": "35ff7789",
   "metadata": {
    "gather": {
     "logged": 1744965032561
    },
    "vscode": {
     "languageId": "plaintext"
    }
   },
   "outputs": [],
   "source": [
    "! olive auto-opt \\\n",
    "    --model_name_or_path  azureml://registries/azureml/models/Phi-4-mini-instruct/versions/1 \\\n",
    "    --adapter_path models/phi-4-mini/ft/adapter \\\n",
    "    --device cpu \\\n",
    "    --provider CPUExecutionProvider \\\n",
    "    --use_model_builder \\\n",
    "    --precision int4 \\\n",
    "    --output_path models/phi-4-mini/onnx \\\n",
    "    --log_level 1"
   ]
  }
 ],
 "metadata": {
  "kernel_info": {
   "name": "python38-azureml-pt-tf"
  },
  "kernelspec": {
   "display_name": "Python 3.10 - Pytorch and Tensorflow",
   "language": "python",
   "name": "python38-azureml-pt-tf"
  },
  "language_info": {
   "codemirror_mode": {
    "name": "ipython",
    "version": 3
   },
   "file_extension": ".py",
   "mimetype": "text/x-python",
   "name": "python",
   "nbconvert_exporter": "python",
   "pygments_lexer": "ipython3",
   "version": "3.10.15"
  },
  "microsoft": {
   "ms_spell_check": {
    "ms_spell_check_language": "en"
   }
  },
  "nteract": {
   "version": "nteract-front-end@1.0.0"
  }
 },
 "nbformat": 4,
 "nbformat_minor": 5
}
