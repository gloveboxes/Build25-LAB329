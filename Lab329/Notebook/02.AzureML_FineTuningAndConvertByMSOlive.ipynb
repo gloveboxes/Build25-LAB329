{
 "cells": [
  {
   "cell_type": "markdown",
   "id": "6f080269",
   "metadata": {
    "vscode": {
     "languageId": "plaintext"
    }
   },
   "source": [
    "Login to your azure account az login - \n",
    "\n",
    "Ensure you select the Python 3.10 PyTorch and Tensorflow Kernel"
   ]
  },
  {
   "cell_type": "code",
   "execution_count": null,
   "id": "2d617742",
   "metadata": {},
   "outputs": [],
   "source": [
    "# Install required packages for authentication\n",
    "!pip install python-dotenv azure-identity azure-ai-ml -U"
   ]
  },
  {
   "cell_type": "code",
   "execution_count": null,
   "id": "a96ef9ea",
   "metadata": {},
   "outputs": [],
   "source": [
    "pip install azure-ai-inference"
   ]
  },
  {
   "cell_type": "code",
   "execution_count": null,
   "id": "5decdb7d",
   "metadata": {},
   "outputs": [],
   "source": [
    "# Set up Azure authentication using service principal or interactive login\n",
    "import os\n",
    "from dotenv import load_dotenv\n",
    "from azure.identity import DefaultAzureCredential, InteractiveBrowserCredential, AzureCliCredential\n",
    "from azure.ai.inference import ChatCompletionsClient\n",
    "from azure.ai.inference.models import SystemMessage, UserMessage\n",
    "from azure.core.credentials import AzureKeyCredential\n",
    "# Load environment variables\n",
    "print(\"Loading environment variables from .env file...\")\n",
    "load_dotenv()\n",
    "\n",
    "# Get Azure ML credentials\n",
    "subscription_id = os.getenv('AZUREML_SUBSCRIPTION_ID')\n",
    "resource_group = os.getenv('AZUREML_RESOURCE_GROUP')\n",
    "workspace = os.getenv('AZUREML_WS_NAME')\n",
    "\n",
    "# Print values for debugging (without showing actual secrets)\n",
    "print(f\"Subscription ID loaded: {'Yes' if subscription_id else 'No'}\")\n",
    "print(f\"Resource Group loaded: {'Yes' if resource_group else 'No'}\")\n",
    "print(f\"Workspace Name loaded: {'Yes' if workspace else 'No'}\")\n",
    "\n",
    "# Try different authentication methods\n",
    "try:\n",
    "    print(\"Attempting authentication with AzureCliCredential...\")\n",
    "    ml_client = MLClient(\n",
    "        AzureCliCredential(),\n",
    "        subscription_id,\n",
    "        resource_group,\n",
    "        workspace\n",
    "    )\n",
    "    print(\"Authentication successful with AzureCliCredential!\")\n",
    "except Exception as e:\n",
    "    print(f\"AzureCliCredential failed with error: {str(e)}\")\n",
    "    print(\"\\nTrying interactive browser authentication...\")\n",
    "    try:\n",
    "        # Fall back to interactive authentication\n",
    "        credential = InteractiveBrowserCredential()\n",
    "        ml_client = MLClient(\n",
    "            credential,\n",
    "            subscription_id,\n",
    "            resource_group,\n",
    "            workspace\n",
    "        )\n",
    "        print(\"Authentication successful with InteractiveBrowserCredential!\")\n",
    "    except Exception as e2:\n",
    "        print(f\"InteractiveBrowserCredential failed with error: {str(e2)}\")\n",
    "        print(\"\\nPlease run 'az login' in a terminal and try again.\")\n",
    "        print(\"If running in a Jupyter environment, you might need to:\")\n",
    "        print(\"1. Run 'az login' in a terminal outside Jupyter\")\n",
    "        print(\"2. Update your .env file with correct credentials\")"
   ]
  },
  {
   "cell_type": "code",
   "execution_count": null,
   "id": "e679da5f",
   "metadata": {
    "gather": {
     "logged": 1744963249558
    }
   },
   "outputs": [],
   "source": [
    "pip  install torch torchvision torchaudio --index-url https://download.pytorch.org/whl/cu124 -U"
   ]
  },
  {
   "cell_type": "code",
   "execution_count": null,
   "id": "89f3ef60",
   "metadata": {},
   "outputs": [],
   "source": [
    "! pip install olive-ai[auto-opt] -U"
   ]
  },
  {
   "cell_type": "code",
   "execution_count": null,
   "id": "69907a09",
   "metadata": {
    "gather": {
     "logged": 1744963274226
    }
   },
   "outputs": [],
   "source": [
    "pip install onnxruntime-genai==0.7.0 --pre"
   ]
  },
  {
   "cell_type": "code",
   "execution_count": null,
   "id": "0cdfae44",
   "metadata": {},
   "outputs": [],
   "source": [
    "! pip install onnxruntime"
   ]
  },
  {
   "cell_type": "code",
   "execution_count": null,
   "id": "67c74e5e",
   "metadata": {},
   "outputs": [],
   "source": [
    "! pip install bitsandbytes"
   ]
  },
  {
   "cell_type": "code",
   "execution_count": null,
   "id": "96b0305c",
   "metadata": {},
   "outputs": [],
   "source": [
    "! pip install transformers==4.49.0 -U"
   ]
  },
  {
   "cell_type": "code",
   "execution_count": null,
   "id": "fd93b0a9",
   "metadata": {},
   "outputs": [],
   "source": [
    "! pip install azure-ai-ml -U  "
   ]
  },
  {
   "cell_type": "code",
   "execution_count": null,
   "id": "66fb7020",
   "metadata": {},
   "outputs": [],
   "source": [
    "! pip install marshmallow==3.23.2 -U   "
   ]
  },
  {
   "cell_type": "code",
   "execution_count": null,
   "id": "45b21c43",
   "metadata": {},
   "outputs": [],
   "source": [
    "! pip install tf-keras"
   ]
  },
  {
   "cell_type": "code",
   "execution_count": null,
   "id": "8207d88c",
   "metadata": {},
   "outputs": [],
   "source": [
    "! pip install numpy==1.23.5 -U"
   ]
  },
  {
   "cell_type": "code",
   "execution_count": null,
   "id": "692ca04b-6242-42c7-8dff-3d5f8b1122b8",
   "metadata": {},
   "outputs": [],
   "source": [
    "! pip install peft"
   ]
  },
  {
   "cell_type": "code",
   "execution_count": null,
   "id": "854bf01b",
   "metadata": {},
   "outputs": [],
   "source": [
    "from azure.identity import AzureCliCredential\n",
    "credential = AzureCliCredential()"
   ]
  },
  {
   "cell_type": "code",
   "execution_count": null,
   "id": "22241278",
   "metadata": {
    "gather": {
     "logged": 1744964309865
    }
   },
   "outputs": [],
   "source": [
    "! olive finetune \\\n",
    "    --method lora \\\n",
    "    --model_name_or_path  azureml://registries/azureml/models/Phi-4-mini-instruct/versions/1 \\\n",
    "    --trust_remote_code \\\n",
    "    --data_name json \\\n",
    "    --data_files ./data/train_data.jsonl \\\n",
    "    --text_template \"<|user|>{Question}<|end|><|assistant|>{Answer}<|end|>\" \\\n",
    "    --max_steps 100 \\\n",
    "    --output_path models/phi-4-mini/ft \\\n",
    "    --target_modules \"q_proj\",\"k_proj\",\"v_proj\",\"o_proj\",\"gate_proj\",\"up_proj\",\"down_proj\" \\\n",
    "    --log_level 1"
   ]
  },
  {
   "cell_type": "code",
   "execution_count": null,
   "id": "b03d6cc0-db61-4613-bc89-42fa13c06440",
   "metadata": {},
   "outputs": [],
   "source": [
    "! pip install onnxruntime-genai==0.7.0 --pre"
   ]
  },
  {
   "cell_type": "code",
   "execution_count": null,
   "id": "35ff7789",
   "metadata": {
    "gather": {
     "logged": 1744965032561
    }
   },
   "outputs": [],
   "source": [
    "! olive auto-opt \\\n",
    "    --model_name_or_path  azureml://registries/azureml/models/Phi-4-mini-instruct/versions/1 \\\n",
    "    --adapter_path models/phi-4-mini/ft/adapter \\\n",
    "    --device cpu \\\n",
    "    --provider CPUExecutionProvider \\\n",
    "    --use_model_builder \\\n",
    "    --precision int4 \\\n",
    "    --output_path models/phi-4-mini/onnx \\\n",
    "    --log_level 1"
   ]
  }
 ],
 "metadata": {
  "kernel_info": {
   "name": "python38-azureml-pt-tf"
  },
  "kernelspec": {
   "display_name": "Python 3.8 - Pytorch and Tensorflow",
   "language": "python",
   "name": "python38-azureml-pt-tf"
  },
  "language_info": {
   "codemirror_mode": {
    "name": "ipython",
    "version": 3
   },
   "file_extension": ".py",
   "mimetype": "text/x-python",
   "name": "python",
   "nbconvert_exporter": "python",
   "pygments_lexer": "ipython3",
   "version": "3.10.14"
  },
  "microsoft": {
   "ms_spell_check": {
    "ms_spell_check_language": "en"
   }
  },
  "nteract": {
   "version": "nteract-front-end@1.0.0"
  }
 },
 "nbformat": 4,
 "nbformat_minor": 5
}
