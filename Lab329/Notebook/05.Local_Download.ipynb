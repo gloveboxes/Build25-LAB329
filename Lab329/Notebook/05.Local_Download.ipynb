{
 "cells": [
  {
   "cell_type": "markdown",
   "id": "9882bf56",
   "metadata": {},
   "source": [
    " Please install Python 3.10+ in your VM Workstation"
   ]
  },
  {
   "cell_type": "markdown",
   "id": "450d21d1",
   "metadata": {},
   "source": [
    "This notebook needs to run on the local machine so please download the notebooks and execute"
   ]
  },
  {
   "cell_type": "code",
   "execution_count": null,
   "id": "2f0057bd",
   "metadata": {},
   "outputs": [],
   "source": [
    "! pip install python-dotenv"
   ]
  },
  {
   "cell_type": "code",
   "execution_count": null,
   "id": "9e8b0a62",
   "metadata": {},
   "outputs": [],
   "source": [
    "! pip install azure-ai-ml -U  "
   ]
  },
  {
   "cell_type": "code",
   "execution_count": null,
   "id": "db2cd670",
   "metadata": {},
   "outputs": [],
   "source": [
    "from azure.ai.ml import MLClient, Input\n",
    "from azure.ai.ml.entities import Model\n",
    "from azure.ai.ml.constants import AssetTypes\n",
    "from azure.identity import DefaultAzureCredential"
   ]
  },
  {
   "cell_type": "code",
   "execution_count": null,
   "id": "b079049a",
   "metadata": {},
   "outputs": [],
   "source": [
    "import os\n",
    "from dotenv import load_dotenv\n",
    "\n",
    "# Load environment variables from local.env file\n",
    "load_dotenv('local.env')"
   ]
  },
  {
   "cell_type": "code",
   "execution_count": null,
   "id": "c75d041d",
   "metadata": {},
   "outputs": [],
   "source": [
    "# Get Azure ML credentials from environment variables\n",
    "subscription_id = os.getenv('AZUREML_SUBSCRIPTION_ID')\n",
    "resource_group = os.getenv('AZUREML_RESOURCE_GROUP')\n",
    "workspace = os.getenv('AZUREML_WS_NAME')\n",
    "\n",
    "# Print values for debugging (remove in production)\n",
    "print(f\"Subscription ID: {subscription_id}\")\n",
    "print(f\"Resource Group: {resource_group}\")\n",
    "print(f\"Workspace: {workspace}\")\n",
    "\n",
    "# Create ML client with the credentials\n",
    "ml_client = MLClient(DefaultAzureCredential(), subscription_id, resource_group, workspace)"
   ]
  },
  {
   "cell_type": "code",
   "execution_count": null,
   "id": "e0bd3aee",
   "metadata": {},
   "outputs": [],
   "source": [
    "ml_client.models.list()"
   ]
  },
  {
   "cell_type": "code",
   "execution_count": null,
   "id": "5af58503",
   "metadata": {},
   "outputs": [],
   "source": [
    "ml_client.models.download(\"fine-tuning-phi-4-mini-onnx-int4-cpu\", 1)"
   ]
  }
 ],
 "metadata": {
  "kernelspec": {
   "display_name": "pydev",
   "language": "python",
   "name": "python3"
  },
  "language_info": {
   "codemirror_mode": {
    "name": "ipython",
    "version": 3
   },
   "file_extension": ".py",
   "mimetype": "text/x-python",
   "name": "python",
   "nbconvert_exporter": "python",
   "pygments_lexer": "ipython3",
   "version": "3.11.8"
  }
 },
 "nbformat": 4,
 "nbformat_minor": 5
}
