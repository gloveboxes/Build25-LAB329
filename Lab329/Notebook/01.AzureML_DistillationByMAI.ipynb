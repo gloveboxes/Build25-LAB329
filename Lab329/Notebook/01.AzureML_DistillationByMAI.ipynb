{
  "cells": [
    {
      "cell_type": "code",
      "source": [
        "pip install python-dotenv"
      ],
      "outputs": [
        {
          "output_type": "stream",
          "name": "stdout",
          "text": "Requirement already satisfied: python-dotenv in /anaconda/envs/azureml_py38/lib/python3.10/site-packages (1.0.1)\nNote: you may need to restart the kernel to use updated packages.\n"
        }
      ],
      "execution_count": 2,
      "metadata": {
        "vscode": {
          "languageId": "plaintext"
        },
        "gather": {
          "logged": 1744962359523
        }
      },
      "id": "dddced75"
    },
    {
      "cell_type": "code",
      "source": [
        "pip install datasets -U"
      ],
      "outputs": [
        {
          "output_type": "stream",
          "name": "stdout",
          "text": "Requirement already satisfied: datasets in /anaconda/envs/azureml_py38/lib/python3.10/site-packages (3.5.0)\nRequirement already satisfied: pyarrow>=15.0.0 in /anaconda/envs/azureml_py38/lib/python3.10/site-packages (from datasets) (19.0.1)\nRequirement already satisfied: fsspec[http]<=2024.12.0,>=2023.1.0 in /anaconda/envs/azureml_py38/lib/python3.10/site-packages (from datasets) (2023.10.0)\nRequirement already satisfied: xxhash in /anaconda/envs/azureml_py38/lib/python3.10/site-packages (from datasets) (3.5.0)\nRequirement already satisfied: pyyaml>=5.1 in /anaconda/envs/azureml_py38/lib/python3.10/site-packages (from datasets) (6.0.2)\nRequirement already satisfied: aiohttp in /anaconda/envs/azureml_py38/lib/python3.10/site-packages (from datasets) (3.11.10)\nRequirement already satisfied: requests>=2.32.2 in /anaconda/envs/azureml_py38/lib/python3.10/site-packages (from datasets) (2.32.3)\nRequirement already satisfied: dill<0.3.9,>=0.3.0 in /anaconda/envs/azureml_py38/lib/python3.10/site-packages (from datasets) (0.3.7)\nRequirement already satisfied: packaging in /anaconda/envs/azureml_py38/lib/python3.10/site-packages (from datasets) (24.2)\nRequirement already satisfied: multiprocess<0.70.17 in /anaconda/envs/azureml_py38/lib/python3.10/site-packages (from datasets) (0.70.15)\nRequirement already satisfied: huggingface-hub>=0.24.0 in /anaconda/envs/azureml_py38/lib/python3.10/site-packages (from datasets) (0.30.1)\nRequirement already satisfied: tqdm>=4.66.3 in /anaconda/envs/azureml_py38/lib/python3.10/site-packages (from datasets) (4.67.1)\nRequirement already satisfied: numpy>=1.17 in /anaconda/envs/azureml_py38/lib/python3.10/site-packages (from datasets) (1.23.5)\nRequirement already satisfied: pandas in /anaconda/envs/azureml_py38/lib/python3.10/site-packages (from datasets) (1.5.3)\nRequirement already satisfied: filelock in /anaconda/envs/azureml_py38/lib/python3.10/site-packages (from datasets) (3.16.1)\nRequirement already satisfied: yarl<2.0,>=1.17.0 in /anaconda/envs/azureml_py38/lib/python3.10/site-packages (from aiohttp->datasets) (1.18.3)\nRequirement already satisfied: async-timeout<6.0,>=4.0 in /anaconda/envs/azureml_py38/lib/python3.10/site-packages (from aiohttp->datasets) (5.0.1)\nRequirement already satisfied: multidict<7.0,>=4.5 in /anaconda/envs/azureml_py38/lib/python3.10/site-packages (from aiohttp->datasets) (6.1.0)\nRequirement already satisfied: propcache>=0.2.0 in /anaconda/envs/azureml_py38/lib/python3.10/site-packages (from aiohttp->datasets) (0.2.1)\nRequirement already satisfied: frozenlist>=1.1.1 in /anaconda/envs/azureml_py38/lib/python3.10/site-packages (from aiohttp->datasets) (1.5.0)\nRequirement already satisfied: aiosignal>=1.1.2 in /anaconda/envs/azureml_py38/lib/python3.10/site-packages (from aiohttp->datasets) (1.3.1)\nRequirement already satisfied: aiohappyeyeballs>=2.3.0 in /anaconda/envs/azureml_py38/lib/python3.10/site-packages (from aiohttp->datasets) (2.4.4)\nRequirement already satisfied: attrs>=17.3.0 in /anaconda/envs/azureml_py38/lib/python3.10/site-packages (from aiohttp->datasets) (25.3.0)\nRequirement already satisfied: typing-extensions>=3.7.4.3 in /anaconda/envs/azureml_py38/lib/python3.10/site-packages (from huggingface-hub>=0.24.0->datasets) (4.13.1)\nRequirement already satisfied: idna<4,>=2.5 in /anaconda/envs/azureml_py38/lib/python3.10/site-packages (from requests>=2.32.2->datasets) (3.10)\nRequirement already satisfied: certifi>=2017.4.17 in /anaconda/envs/azureml_py38/lib/python3.10/site-packages (from requests>=2.32.2->datasets) (2025.1.31)\nRequirement already satisfied: charset-normalizer<4,>=2 in /anaconda/envs/azureml_py38/lib/python3.10/site-packages (from requests>=2.32.2->datasets) (3.4.0)\nRequirement already satisfied: urllib3<3,>=1.21.1 in /anaconda/envs/azureml_py38/lib/python3.10/site-packages (from requests>=2.32.2->datasets) (1.26.20)\nRequirement already satisfied: python-dateutil>=2.8.1 in /anaconda/envs/azureml_py38/lib/python3.10/site-packages (from pandas->datasets) (2.9.0.post0)\nRequirement already satisfied: pytz>=2020.1 in /anaconda/envs/azureml_py38/lib/python3.10/site-packages (from pandas->datasets) (2022.5)\nRequirement already satisfied: six>=1.5 in /anaconda/envs/azureml_py38/lib/python3.10/site-packages (from python-dateutil>=2.8.1->pandas->datasets) (1.17.0)\nNote: you may need to restart the kernel to use updated packages.\n"
        }
      ],
      "execution_count": 3,
      "metadata": {
        "vscode": {
          "languageId": "plaintext"
        },
        "gather": {
          "logged": 1744962363192
        }
      },
      "id": "5ebb8ff3"
    },
    {
      "cell_type": "code",
      "source": [
        "from datasets import load_dataset\n",
        "from abc import ABC"
      ],
      "outputs": [
        {
          "output_type": "stream",
          "name": "stderr",
          "text": "/anaconda/envs/azureml_py38/lib/python3.10/site-packages/tqdm/auto.py:21: TqdmWarning: IProgress not found. Please update jupyter and ipywidgets. See https://ipywidgets.readthedocs.io/en/stable/user_install.html\n  from .autonotebook import tqdm as notebook_tqdm\n"
        }
      ],
      "execution_count": 4,
      "metadata": {
        "vscode": {
          "languageId": "plaintext"
        },
        "gather": {
          "logged": 1744962364326
        }
      },
      "id": "c9605ccc"
    },
    {
      "cell_type": "code",
      "source": [
        "class InputDataset(ABC):\n",
        "    def __init__(self):\n",
        "        super().__init__()\n",
        "        (\n",
        "            self.train_data_file_name,\n",
        "            self.test_data_file_name,\n",
        "            self.eval_data_file_name,\n",
        "        ) = (None, None, None)"
      ],
      "outputs": [],
      "execution_count": 5,
      "metadata": {
        "vscode": {
          "languageId": "plaintext"
        },
        "gather": {
          "logged": 1744962364456
        }
      },
      "id": "806f5e03"
    },
    {
      "cell_type": "code",
      "source": [
        "class CQnAHuggingFaceInputDataset(InputDataset):\n",
        "    \"\"\"\n",
        "    Loads the HuggingFace dataset\n",
        "    \"\"\"\n",
        "\n",
        "    def __init__(self):\n",
        "        super().__init__()\n",
        "\n",
        "    def load_hf_dataset(\n",
        "        self,\n",
        "        dataset_name,\n",
        "        train_sample_size=10,\n",
        "        val_sample_size=10,\n",
        "        test_sample_size=10,\n",
        "        train_split_name=\"train\",\n",
        "        val_split_name=\"validation\",\n",
        "        test_split_name=\"test\",\n",
        "    ):\n",
        "        full_dataset = load_dataset(dataset_name)\n",
        "\n",
        "        if val_split_name is not None:\n",
        "            train_data = full_dataset[train_split_name].select(range(train_sample_size))\n",
        "            val_data = full_dataset[val_split_name].select(range(val_sample_size))\n",
        "            test_data = full_dataset[test_split_name].select(range(test_sample_size))\n",
        "        else:\n",
        "            train_val_data = full_dataset[train_split_name].select(\n",
        "                range(train_sample_size + val_sample_size)\n",
        "            )\n",
        "            train_data = train_val_data.select(range(train_sample_size))\n",
        "            val_data = train_val_data.select(\n",
        "                range(train_sample_size, train_sample_size + val_sample_size)\n",
        "            )\n",
        "            test_data = full_dataset[test_split_name].select(range(test_sample_size))\n",
        "\n",
        "        return train_data, val_data, test_data"
      ],
      "outputs": [],
      "execution_count": 6,
      "metadata": {
        "vscode": {
          "languageId": "plaintext"
        },
        "gather": {
          "logged": 1744962364607
        }
      },
      "id": "34315645"
    },
    {
      "cell_type": "code",
      "source": [
        "# We can define train and test sample sizes here. Validation size is kept same as test sample size\n",
        "train_sample_size = 100\n",
        "val_sample_size = 100\n",
        "\n",
        "# Sample notebook using the dataset: https://huggingface.co/datasets/tau/commonsense_qa\n",
        "dataset_name = \"tau/commonsense_qa\"\n",
        "input_dataset = CQnAHuggingFaceInputDataset()\n",
        "\n",
        "# Note: train_split_name and test_split_name can vary by dataset. They are passed as arguments in load_hf_dataset.\n",
        "# If validation_split_name is None, the below function will split the train set to create the specified sized validation set.\n",
        "train, val, _ = input_dataset.load_hf_dataset(\n",
        "    dataset_name=dataset_name,\n",
        "    train_sample_size=train_sample_size,\n",
        "    val_sample_size=val_sample_size,\n",
        "    train_split_name=\"train\",\n",
        "    val_split_name=\"validation\",\n",
        ")\n",
        "\n",
        "print(\"Len of train data sample is \" + str(len(train)))\n",
        "print(\"Len of validation data sample is \" + str(len(val)))"
      ],
      "outputs": [
        {
          "output_type": "stream",
          "name": "stdout",
          "text": "Len of train data sample is 100\nLen of validation data sample is 100\n"
        }
      ],
      "execution_count": 7,
      "metadata": {
        "vscode": {
          "languageId": "plaintext"
        },
        "gather": {
          "logged": 1744962367034
        }
      },
      "id": "3a92e682"
    },
    {
      "cell_type": "code",
      "source": [
        "! mkdir -p data"
      ],
      "outputs": [],
      "execution_count": 8,
      "metadata": {
        "vscode": {
          "languageId": "plaintext"
        }
      },
      "id": "4a458770"
    },
    {
      "cell_type": "code",
      "source": [
        "train_data_path = \"data/train_original_data.jsonl\""
      ],
      "outputs": [],
      "execution_count": 9,
      "metadata": {
        "vscode": {
          "languageId": "plaintext"
        },
        "gather": {
          "logged": 1744962367302
        }
      },
      "id": "25914972"
    },
    {
      "cell_type": "code",
      "source": [
        "import json"
      ],
      "outputs": [],
      "execution_count": 10,
      "metadata": {
        "vscode": {
          "languageId": "plaintext"
        },
        "gather": {
          "logged": 1744962367432
        }
      },
      "id": "df1f3072"
    },
    {
      "cell_type": "code",
      "source": [
        "system_prompt = \"You are a helpful assistant. Your output should only be one of the five choices: 'A', 'B', 'C', 'D', or 'E'.\"\n",
        "user_prompt_template = \"Answer the following multiple-choice question by selecting the correct option.\\n\\nQuestion: {question}\\nAnswer Choices:\\n{answer_choices}\"\n",
        "\n",
        "for row in train:\n",
        "    data = {\"messages\": []}\n",
        "    data[\"messages\"].append(\n",
        "        {\n",
        "            \"role\": \"system\",\n",
        "            \"content\": system_prompt,\n",
        "        }\n",
        "    )\n",
        "    question, choices = row[\"question\"], row[\"choices\"]\n",
        "    labels, choice_list = choices[\"label\"], choices[\"text\"]\n",
        "    answer_choices = [\n",
        "        \"({}) {}\".format(labels[i], choice_list[i]) for i in range(len(labels))\n",
        "    ]\n",
        "    answer_choices = \"\\n\".join(answer_choices)\n",
        "    data[\"messages\"].append(\n",
        "        {\n",
        "            \"role\": \"user\",\n",
        "            \"content\": user_prompt_template.format(\n",
        "                question=question, answer_choices=answer_choices\n",
        "            ),\n",
        "        }\n",
        "    )\n",
        "    with open(train_data_path, \"a\") as f:\n",
        "        f.write(json.dumps(data) + \"\\n\")"
      ],
      "outputs": [],
      "execution_count": 11,
      "metadata": {
        "vscode": {
          "languageId": "plaintext"
        },
        "gather": {
          "logged": 1744962370043
        }
      },
      "id": "ad051ac1"
    },
    {
      "cell_type": "code",
      "source": [
        "from dotenv import load_dotenv\n",
        "load_dotenv()"
      ],
      "outputs": [
        {
          "output_type": "execute_result",
          "execution_count": 12,
          "data": {
            "text/plain": "True"
          },
          "metadata": {}
        }
      ],
      "execution_count": 12,
      "metadata": {
        "vscode": {
          "languageId": "plaintext"
        },
        "gather": {
          "logged": 1744962370185
        }
      },
      "id": "6720cee2"
    },
    {
      "cell_type": "code",
      "source": [
        "import os"
      ],
      "outputs": [],
      "execution_count": 13,
      "metadata": {
        "vscode": {
          "languageId": "plaintext"
        },
        "gather": {
          "logged": 1744962370335
        }
      },
      "id": "65bc0fec"
    },
    {
      "cell_type": "code",
      "source": [
        "teacher_model_name = os.getenv('TEACHER_MODEL_NAME')\n",
        "teacher_model_endpoint_url = os.getenv('TEACHER_MODEL_ENDPOINT')\n",
        "teacher_model_api_key = os.getenv('TEACHER_MODEL_KEY')"
      ],
      "outputs": [],
      "execution_count": 14,
      "metadata": {
        "vscode": {
          "languageId": "plaintext"
        },
        "gather": {
          "logged": 1744962370463
        }
      },
      "id": "46ccf082"
    },
    {
      "cell_type": "code",
      "source": [
        "pip install azure-ai-inference"
      ],
      "outputs": [
        {
          "output_type": "stream",
          "name": "stdout",
          "text": "Requirement already satisfied: azure-ai-inference in /anaconda/envs/azureml_py38/lib/python3.10/site-packages (1.0.0b9)\nRequirement already satisfied: azure-core>=1.30.0 in /anaconda/envs/azureml_py38/lib/python3.10/site-packages (from azure-ai-inference) (1.32.0)\nRequirement already satisfied: isodate>=0.6.1 in /anaconda/envs/azureml_py38/lib/python3.10/site-packages (from azure-ai-inference) (0.7.2)\nRequirement already satisfied: typing-extensions>=4.6.0 in /anaconda/envs/azureml_py38/lib/python3.10/site-packages (from azure-ai-inference) (4.13.1)\nRequirement already satisfied: six>=1.11.0 in /anaconda/envs/azureml_py38/lib/python3.10/site-packages (from azure-core>=1.30.0->azure-ai-inference) (1.17.0)\nRequirement already satisfied: requests>=2.21.0 in /anaconda/envs/azureml_py38/lib/python3.10/site-packages (from azure-core>=1.30.0->azure-ai-inference) (2.32.3)\nRequirement already satisfied: urllib3<3,>=1.21.1 in /anaconda/envs/azureml_py38/lib/python3.10/site-packages (from requests>=2.21.0->azure-core>=1.30.0->azure-ai-inference) (1.26.20)\nRequirement already satisfied: certifi>=2017.4.17 in /anaconda/envs/azureml_py38/lib/python3.10/site-packages (from requests>=2.21.0->azure-core>=1.30.0->azure-ai-inference) (2025.1.31)\nRequirement already satisfied: charset-normalizer<4,>=2 in /anaconda/envs/azureml_py38/lib/python3.10/site-packages (from requests>=2.21.0->azure-core>=1.30.0->azure-ai-inference) (3.4.0)\nRequirement already satisfied: idna<4,>=2.5 in /anaconda/envs/azureml_py38/lib/python3.10/site-packages (from requests>=2.21.0->azure-core>=1.30.0->azure-ai-inference) (3.10)\nNote: you may need to restart the kernel to use updated packages.\n"
        }
      ],
      "execution_count": 15,
      "metadata": {
        "vscode": {
          "languageId": "plaintext"
        },
        "gather": {
          "logged": 1744962373633
        }
      },
      "id": "5052dde2"
    },
    {
      "cell_type": "code",
      "source": [
        "import os\n",
        "import json\n",
        "from azure.ai.inference import ChatCompletionsClient\n",
        "from azure.ai.inference.models import SystemMessage, UserMessage\n",
        "from azure.core.credentials import AzureKeyCredential"
      ],
      "outputs": [],
      "execution_count": 16,
      "metadata": {
        "vscode": {
          "languageId": "plaintext"
        },
        "gather": {
          "logged": 1744962373771
        }
      },
      "id": "62fb1cbf"
    },
    {
      "cell_type": "code",
      "source": [
        "def process_question(question_data):\n",
        "    try:\n",
        "        messages = []\n",
        "        for msg in question_data[\"messages\"]:\n",
        "            if msg[\"role\"] == \"system\":\n",
        "                messages.append(SystemMessage(content=msg[\"content\"]))\n",
        "            elif msg[\"role\"] == \"user\":\n",
        "                messages.append(UserMessage(content=msg[\"content\"]))\n",
        "\n",
        "        response = client.complete(\n",
        "            messages=messages,\n",
        "            model=model_name,\n",
        "            max_tokens=100  # Reduced since we just need short answers like A, B, C, D, or E\n",
        "        )\n",
        "\n",
        "        return {\n",
        "            \"question\": question_data[\"messages\"][1][\"content\"],\n",
        "            \"response\": response.choices[0].message.content,\n",
        "            \"full_response\": response\n",
        "        }\n",
        "    except Exception as e:\n",
        "        return {\n",
        "            \"question\": question_data[\"messages\"][1][\"content\"] if len(question_data[\"messages\"]) > 1 else \"Error\",\n",
        "            \"response\": f\"Error: {str(e)}\",\n",
        "            \"full_response\": None\n",
        "        }"
      ],
      "outputs": [],
      "execution_count": 17,
      "metadata": {
        "vscode": {
          "languageId": "plaintext"
        },
        "gather": {
          "logged": 1744962373924
        }
      },
      "id": "a5f12ae7"
    },
    {
      "cell_type": "code",
      "source": [
        "endpoint = teacher_model_endpoint_url\n",
        "model_name = teacher_model_name\n",
        "key = teacher_model_api_key\n",
        "client = ChatCompletionsClient(endpoint=endpoint, credential=AzureKeyCredential(key))"
      ],
      "outputs": [],
      "execution_count": 18,
      "metadata": {
        "vscode": {
          "languageId": "plaintext"
        },
        "gather": {
          "logged": 1744962374043
        }
      },
      "id": "448b00cf"
    },
    {
      "cell_type": "code",
      "source": [
        "# Read the JSONL file and process each question\n",
        "results = []\n",
        "with open(train_data_path, 'r', encoding='utf-8') as file:\n",
        "    print(f\"Processing questions from {train_data_path}\")\n",
        "    for i, line in enumerate(file):\n",
        "        if line.strip():  # Skip empty lines\n",
        "            try:\n",
        "                question_data = json.loads(line)\n",
        "                print(f\"Processing question {i+1}...\")\n",
        "                result = process_question(question_data)\n",
        "                results.append(result)\n",
        "                print(f\"Question {i+1} response: {result['response']}\")\n",
        "            except json.JSONDecodeError as e:\n",
        "                print(f\"Error parsing line {i+1}: {str(e)}\")\n",
        "            except Exception as e:\n",
        "                print(f\"Error processing line {i+1}: {str(e)}\")"
      ],
      "outputs": [
        {
          "output_type": "stream",
          "name": "stdout",
          "text": "Processing questions from data/train_original_data.jsonl\nProcessing question 1...\nQuestion 1 response: (A) ignore\nProcessing question 2...\nQuestion 2 response: (B) populated areas\nProcessing question 3...\nQuestion 3 response: (B) neck\nProcessing question 4...\nQuestion 4 response: (D) atlas\nProcessing question 5...\nQuestion 5 response: (C) natural habitat\nProcessing question 6...\nQuestion 6 response: (D) television\nProcessing question 7...\nQuestion 7 response: (E) airport\nProcessing question 8...\nQuestion 8 response: Error: (Timeout) The operation was timeout.\nCode: Timeout\nMessage: The operation was timeout.\nProcessing question 9...\nQuestion 9 response: (E) blotter\nProcessing question 10...\nQuestion 10 response: (D) business sector\nProcessing question 11...\nQuestion 11 response: (B) grocery cart\nProcessing question 12...\nQuestion 12 response: (C) bitterness\nProcessing question 13...\nQuestion 13 response: (C) garden\nProcessing question 14...\nQuestion 14 response: (A) loss of heat\nProcessing question 15...\nQuestion 15 response: (C) kitchen\nProcessing question 16...\nQuestion 16 response: (D) louisiana\nProcessing question 17...\nQuestion 17 response: (E) barbeque\nProcessing question 18...\nQuestion 18 response: (C) sick person\nProcessing question 19...\nQuestion 19 response: (D) food court\nProcessing question 20...\nQuestion 20 response: (E) satisfaction\nProcessing question 21...\nQuestion 21 response: (B) fatigue\nProcessing question 22...\nQuestion 22 response: (B) main\nProcessing question 23...\nQuestion 23 response: (D) computer network\nProcessing question 24...\nQuestion 24 response: (A) car\nProcessing question 25...\nQuestion 25 response: (C) being found out\nProcessing question 26...\nQuestion 26 response: (C) receive instructions\nProcessing question 27...\nQuestion 27 response: (D) moving\nProcessing question 28...\nQuestion 28 response: (D) pet shops\nProcessing question 29...\nQuestion 29 response: (E) law suit\nProcessing question 30...\nQuestion 30 response: The correct answer is (A) television. Cleaning the dust off the television would prevent glare during the football game.\nProcessing question 31...\nQuestion 31 response: (C) speak information\nProcessing question 32...\nQuestion 32 response: (B) subdivision\nProcessing question 33...\nQuestion 33 response: The correct answer is (D) venice. Venice, located in Italy, is famous for its extensive network of canals.\nProcessing question 34...\nQuestion 34 response: The correct answer is (D) light fire. Before a camper can start cooking food, they would need to light a fire to prepare the cooking area.\nProcessing question 35...\nQuestion 35 response: (C) saturated with water\nProcessing question 36...\nQuestion 36 response: Error: (content_filter) The response was filtered due to the prompt triggering Microsoft's content management policy. Please modify your prompt and retry.\nCode: content_filter\nMessage: The response was filtered due to the prompt triggering Microsoft's content management policy. Please modify your prompt and retry.\nProcessing question 37...\nQuestion 37 response: (D) beach\nProcessing question 38...\nQuestion 38 response: The correct answer is (D) coastal cities. Seafood restaurants are commonly found in coastal cities along the east coast of North America, as these areas have easy access to fresh seafood. While options like Maine, Boston, and beach towns are specific examples of coastal locations, \"coastal cities\" is the most general and inclusive answer.\nProcessing question 39...\nQuestion 39 response: (E)\nProcessing question 40...\nQuestion 40 response: (D) headache\nProcessing question 41...\nQuestion 41 response: (D) wildlife refuge\nProcessing question 42...\nQuestion 42 response: (D) paying\nProcessing question 43...\nQuestion 43 response: (B) dangerous\nProcessing question 44...\nQuestion 44 response: (C) stomach ache\nProcessing question 45...\nQuestion 45 response: (E) social bonding\nProcessing question 46...\nQuestion 46 response: (D) street\nProcessing question 47...\nQuestion 47 response: (C) california\nProcessing question 48...\nQuestion 48 response: (E) healthy body\nProcessing question 49...\nQuestion 49 response: (D) proximity\nProcessing question 50...\nQuestion 50 response: (B) late for work\nProcessing question 51...\nQuestion 51 response: (B) mandate\nProcessing question 52...\nQuestion 52 response: (A) demonstration\nProcessing question 53...\nQuestion 53 response: (A) military base\nProcessing question 54...\nQuestion 54 response: The correct answer is (C) feel safe.\nProcessing question 55...\nQuestion 55 response: (C) frustration\nProcessing question 56...\nQuestion 56 response: Error: (content_filter) The response was filtered due to the prompt triggering Microsoft's content management policy. Please modify your prompt and retry.\nCode: content_filter\nMessage: The response was filtered due to the prompt triggering Microsoft's content management policy. Please modify your prompt and retry.\nProcessing question 57...\nQuestion 57 response: (B) dance hall\nProcessing question 58...\nQuestion 58 response: (B) have rest\nProcessing question 59...\nQuestion 59 response: (A) apply for job\nProcessing question 60...\nQuestion 60 response: (A) headache\nProcessing question 61...\nQuestion 61 response: B\nProcessing question 62...\nQuestion 62 response: (C) millpond\nProcessing question 63...\nQuestion 63 response: (A) reach tentative agreement\nProcessing question 64...\nQuestion 64 response: (A) under rocks\nProcessing question 65...\nQuestion 65 response: (A) get smart\nProcessing question 66...\nQuestion 66 response: (B) tennessee\nProcessing question 67...\nQuestion 67 response: (D) heal\nProcessing question 68...\nQuestion 68 response: (B) feel good\nProcessing question 69...\nQuestion 69 response: (E) sporting event\nProcessing question 70...\nQuestion 70 response: (B) coastal cities\nProcessing question 71...\nQuestion 71 response: (C) subordinate\nProcessing question 72...\nQuestion 72 response: (B) respond\nProcessing question 73...\nQuestion 73 response: (B) mall\nProcessing question 74...\nQuestion 74 response: (D) web page\nProcessing question 75...\nQuestion 75 response: (B) skill\nProcessing question 76...\nQuestion 76 response: (D) connecticut\nProcessing question 77...\nQuestion 77 response: (A) circus\nProcessing question 78...\nQuestion 78 response: The correct answer is (A) gain weight.\nProcessing question 79...\nQuestion 79 response: (A) death\nProcessing question 80...\nQuestion 80 response: (D) being bored\nProcessing question 81...\nQuestion 81 response: (B) construction site\nProcessing question 82...\nQuestion 82 response: (C) progress\nProcessing question 83...\nQuestion 83 response: (C) fun\nProcessing question 84...\nQuestion 84 response: (D) in bed\nProcessing question 85...\nQuestion 85 response: (A) store\nProcessing question 86...\nQuestion 86 response: (A) desire\nProcessing question 87...\nQuestion 87 response: B\nProcessing question 88...\nQuestion 88 response: (C) unable\nProcessing question 89...\nQuestion 89 response: (E) freezer\nProcessing question 90...\nQuestion 90 response: (B) symphony\nProcessing question 91...\nQuestion 91 response: (E) field of flowers\nProcessing question 92...\nQuestion 92 response: (A) violence\nProcessing question 93...\nQuestion 93 response: (C) knowlege\nProcessing question 94...\nQuestion 94 response: (A) reality\nProcessing question 95...\nQuestion 95 response: (D) parking lot\nProcessing question 96...\nQuestion 96 response: (D) trouble\nProcessing question 97...\nQuestion 97 response: (B) healthier\nProcessing question 98...\nQuestion 98 response: (C)\nProcessing question 99...\nQuestion 99 response: (B) finger\nProcessing question 100...\nQuestion 100 response: (D) boredom\n"
        }
      ],
      "execution_count": 19,
      "metadata": {
        "vscode": {
          "languageId": "plaintext"
        },
        "gather": {
          "logged": 1744962604578
        }
      },
      "id": "285ab8b3"
    },
    {
      "cell_type": "code",
      "source": [
        "# Read the JSONL file and process each question\n",
        "results = []\n",
        "with open(train_data_path, 'r', encoding='utf-8') as file:\n",
        "    print(f\"Processing questions from {train_data_path}\")\n",
        "    for i, line in enumerate(file):\n",
        "        if line.strip():  # Skip empty lines\n",
        "            try:\n",
        "                question_data = json.loads(line)\n",
        "                print(f\"Processing question {i+1}...\")\n",
        "                result = process_question(question_data)\n",
        "                results.append(result)\n",
        "                print(f\"Question {i+1} response: {result['response']}\")\n",
        "            except json.JSONDecodeError as e:\n",
        "                print(f\"Error parsing line {i+1}: {str(e)}\")\n",
        "            except Exception as e:\n",
        "                print(f\"Error processing line {i+1}: {str(e)}\")"
      ],
      "outputs": [
        {
          "output_type": "stream",
          "name": "stdout",
          "text": "Processing questions from data/train_original_data.jsonl\nProcessing question 1...\nQuestion 1 response: (A) ignore\nProcessing question 2...\nQuestion 2 response: (B) populated areas\nProcessing question 3...\nQuestion 3 response: (B) neck\nProcessing question 4...\nQuestion 4 response: (D) atlas\nProcessing question 5...\nQuestion 5 response: (C) natural habitat\nProcessing question 6...\nQuestion 6 response: (D) television\nProcessing question 7...\nQuestion 7 response: (E) airport\nProcessing question 8...\nQuestion 8 response: (B) refrigerator\nProcessing question 9...\nQuestion 9 response: (E) blotter\nProcessing question 10...\nQuestion 10 response: (D) business sector\nProcessing question 11...\nQuestion 11 response: (B) grocery cart\nProcessing question 12...\nQuestion 12 response: (C) bitterness\nProcessing question 13...\nQuestion 13 response: (C) garden\nProcessing question 14...\nQuestion 14 response: (A) loss of heat\nProcessing question 15...\nQuestion 15 response: (C) kitchen\nProcessing question 16...\nQuestion 16 response: (D) louisiana\nProcessing question 17...\nQuestion 17 response: (E) barbeque\nProcessing question 18...\nQuestion 18 response: (C) sick person\nProcessing question 19...\nQuestion 19 response: (D) food court\nProcessing question 20...\nQuestion 20 response: (E) satisfaction\nProcessing question 21...\nQuestion 21 response: (E) getting tired\nProcessing question 22...\nQuestion 22 response: (B) main\nProcessing question 23...\nQuestion 23 response: (D) computer network\nProcessing question 24...\nQuestion 24 response: (A) car\nProcessing question 25...\nQuestion 25 response: (C) being found out\nProcessing question 26...\nQuestion 26 response: (C) receive instructions\nProcessing question 27...\nQuestion 27 response: (D) moving\nProcessing question 28...\nQuestion 28 response: (D) pet shops\nProcessing question 29...\nQuestion 29 response: (E) law suit\nProcessing question 30...\nQuestion 30 response: (A) television\nProcessing question 31...\nQuestion 31 response: (C) speak information\nProcessing question 32...\nQuestion 32 response: (B) subdivision\nProcessing question 33...\nQuestion 33 response: (D) venice\nProcessing question 34...\nQuestion 34 response: The correct answer is (D) light fire. Before a camper can start cooking food, they need to light a fire to provide the necessary heat for cooking.\nProcessing question 35...\nQuestion 35 response: (C) saturated with water\nProcessing question 36...\nQuestion 36 response: Error: (content_filter) The response was filtered due to the prompt triggering Microsoft's content management policy. Please modify your prompt and retry.\nCode: content_filter\nMessage: The response was filtered due to the prompt triggering Microsoft's content management policy. Please modify your prompt and retry.\nProcessing question 37...\nQuestion 37 response: (D) beach\nProcessing question 38...\nQuestion 38 response: The correct answer is (D) coastal cities. Seafood restaurants are commonly found in coastal cities along the east coast of North America, as these areas have easy access to fresh seafood. While options like Maine, Boston, and beach towns are specific examples of coastal locations, \"coastal cities\" is the most general and inclusive answer. The ocean itself is not a location where a restaurant would be situated.\nProcessing question 39...\nQuestion 39 response: (E) government\nProcessing question 40...\nQuestion 40 response: (D) headache\nProcessing question 41...\nQuestion 41 response: (D) wildlife refuge\nProcessing question 42...\nQuestion 42 response: (D) paying\nProcessing question 43...\nQuestion 43 response: (B) dangerous\nProcessing question 44...\nQuestion 44 response: (C) stomach ache\nProcessing question 45...\nQuestion 45 response: (E) social bonding\nProcessing question 46...\nQuestion 46 response: (D) street\nProcessing question 47...\nQuestion 47 response: (C) california\nProcessing question 48...\nQuestion 48 response: (E) healthy body\nProcessing question 49...\nQuestion 49 response: (D) proximity\nProcessing question 50...\nQuestion 50 response: (B) late for work\nProcessing question 51...\nQuestion 51 response: (B) mandate\nProcessing question 52...\nQuestion 52 response: (A) demonstration\nProcessing question 53...\nQuestion 53 response: (A) military base\nProcessing question 54...\nQuestion 54 response: (C) feel safe\nProcessing question 55...\nQuestion 55 response: (C) frustration\nProcessing question 56...\nQuestion 56 response: Error: (content_filter) The response was filtered due to the prompt triggering Microsoft's content management policy. Please modify your prompt and retry.\nCode: content_filter\nMessage: The response was filtered due to the prompt triggering Microsoft's content management policy. Please modify your prompt and retry.\nProcessing question 57...\nQuestion 57 response: (B) dance hall\nProcessing question 58...\nQuestion 58 response: (B) have rest\nProcessing question 59...\nQuestion 59 response: (A) apply for job\nProcessing question 60...\nQuestion 60 response: (A) headache\nProcessing question 61...\nQuestion 61 response: The correct answer is (B) cloud mind. Drugs can affect cognitive functions and alter perception, leading to a \"clouded\" or impaired state of mind.\nProcessing question 62...\nQuestion 62 response: (E) lake or river\nProcessing question 63...\nQuestion 63 response: (A) reach tentative agreement\nProcessing question 64...\nQuestion 64 response: (A) under rocks\nProcessing question 65...\nQuestion 65 response: (A) get smart\nProcessing question 66...\nQuestion 66 response: (B) tennessee\nProcessing question 67...\nQuestion 67 response: (D) heal\nProcessing question 68...\nQuestion 68 response: (B) feel good\nProcessing question 69...\nQuestion 69 response: (E) sporting event\nProcessing question 70...\nQuestion 70 response: (B) coastal cities\nProcessing question 71...\nQuestion 71 response: (C) subordinate\nProcessing question 72...\nQuestion 72 response: (B) respond\nProcessing question 73...\nQuestion 73 response: (B) mall\nProcessing question 74...\nQuestion 74 response: (D) web page\nProcessing question 75...\nQuestion 75 response: (B) skill\nProcessing question 76...\nQuestion 76 response: (D) connecticut\nProcessing question 77...\nQuestion 77 response: (A) circus\nProcessing question 78...\nQuestion 78 response: (A) gain weight\nProcessing question 79...\nQuestion 79 response: (A) death\nProcessing question 80...\nQuestion 80 response: (D) being bored\nProcessing question 81...\nQuestion 81 response: (B) construction site\nProcessing question 82...\nQuestion 82 response: (C) progress\nProcessing question 83...\nQuestion 83 response: (C) fun\nProcessing question 84...\nQuestion 84 response: (D) in bed\nProcessing question 85...\nQuestion 85 response: (A) store\nProcessing question 86...\nQuestion 86 response: (A) desire\nProcessing question 87...\nQuestion 87 response: The correct answer is (B) satisfaction.\nProcessing question 88...\nQuestion 88 response: (C) unable\nProcessing question 89...\nQuestion 89 response: (E) freezer\nProcessing question 90...\nQuestion 90 response: (B) symphony\nProcessing question 91...\nQuestion 91 response: (E) field of flowers\nProcessing question 92...\nQuestion 92 response: (A) violence\nProcessing question 93...\nQuestion 93 response: (C) knowledge\nProcessing question 94...\nQuestion 94 response: (A) reality\nProcessing question 95...\nQuestion 95 response: (D) parking lot\nProcessing question 96...\nQuestion 96 response: (D) trouble\nProcessing question 97...\nQuestion 97 response: (B) healthier\nProcessing question 98...\nQuestion 98 response: The correct answer is (C) building.\nProcessing question 99...\nQuestion 99 response: (B) finger\nProcessing question 100...\nQuestion 100 response: (D) boredom\n"
        }
      ],
      "execution_count": 20,
      "metadata": {
        "vscode": {
          "languageId": "plaintext"
        },
        "gather": {
          "logged": 1744962804677
        }
      },
      "id": "3e8cf0c7"
    },
    {
      "cell_type": "code",
      "source": [
        "output_file_path = \"./data/train_data.jsonl\"\n",
        "with open(output_file_path, 'w', encoding='utf-8') as f:\n",
        "    for result in results:\n",
        "        # Extract just the question content (removing the instruction part)\n",
        "        question_text = result[\"question\"]\n",
        "        # if \"Question: \" in question_text:\n",
        "        #     question_text = question_text.split(\"Question: \")[1].split(\"\\nAnswer Choices:\")[0]\n",
        "\n",
        "        # Create the simplified output format\n",
        "        output_line = {\n",
        "            \"Question\": question_text,\n",
        "            \"Answer\": result[\"response\"]\n",
        "        }\n",
        "\n",
        "        # Write as JSONL (one JSON object per line)\n",
        "        f.write(json.dumps(output_line, ensure_ascii=False) + '\\n')"
      ],
      "outputs": [],
      "execution_count": 21,
      "metadata": {
        "vscode": {
          "languageId": "plaintext"
        },
        "gather": {
          "logged": 1744962804797
        }
      },
      "id": "8d6de3fb"
    }
  ],
  "metadata": {
    "language_info": {
      "name": "python"
    },
    "microsoft": {
      "ms_spell_check": {
        "ms_spell_check_language": "en"
      },
      "host": {
        "AzureML": {
          "notebookHasBeenCompleted": true
        }
      }
    },
    "nteract": {
      "version": "nteract-front-end@1.0.0"
    }
  },
  "nbformat": 4,
  "nbformat_minor": 5
}