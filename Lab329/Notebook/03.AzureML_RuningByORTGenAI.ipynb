{
  "cells": [
    {
      "cell_type": "code",
      "source": [
        "pip install onnxruntime-genai==0.7.0 --pre"
      ],
      "outputs": [
        {
          "output_type": "stream",
          "name": "stdout",
          "text": "Requirement already satisfied: onnxruntime-genai==0.7.0 in /anaconda/envs/azureml_py38_PT_TF/lib/python3.10/site-packages (0.7.0)\nRequirement already satisfied: numpy>=1.21.6 in /anaconda/envs/azureml_py38_PT_TF/lib/python3.10/site-packages (from onnxruntime-genai==0.7.0) (2.1.3)\nRequirement already satisfied: onnxruntime>=1.21.0 in /anaconda/envs/azureml_py38_PT_TF/lib/python3.10/site-packages (from onnxruntime-genai==0.7.0) (1.21.0)\nRequirement already satisfied: coloredlogs in /anaconda/envs/azureml_py38_PT_TF/lib/python3.10/site-packages (from onnxruntime>=1.21.0->onnxruntime-genai==0.7.0) (15.0.1)\nRequirement already satisfied: flatbuffers in /anaconda/envs/azureml_py38_PT_TF/lib/python3.10/site-packages (from onnxruntime>=1.21.0->onnxruntime-genai==0.7.0) (25.2.10)\nRequirement already satisfied: packaging in /anaconda/envs/azureml_py38_PT_TF/lib/python3.10/site-packages (from onnxruntime>=1.21.0->onnxruntime-genai==0.7.0) (24.2)\nRequirement already satisfied: protobuf in /anaconda/envs/azureml_py38_PT_TF/lib/python3.10/site-packages (from onnxruntime>=1.21.0->onnxruntime-genai==0.7.0) (5.28.3)\nRequirement already satisfied: sympy in /anaconda/envs/azureml_py38_PT_TF/lib/python3.10/site-packages (from onnxruntime>=1.21.0->onnxruntime-genai==0.7.0) (1.13.1)\nRequirement already satisfied: humanfriendly>=9.1 in /anaconda/envs/azureml_py38_PT_TF/lib/python3.10/site-packages (from coloredlogs->onnxruntime>=1.21.0->onnxruntime-genai==0.7.0) (10.0)\nRequirement already satisfied: mpmath<1.4,>=1.1.0 in /anaconda/envs/azureml_py38_PT_TF/lib/python3.10/site-packages (from sympy->onnxruntime>=1.21.0->onnxruntime-genai==0.7.0) (1.3.0)\nNote: you may need to restart the kernel to use updated packages.\n"
        }
      ],
      "execution_count": 2,
      "metadata": {
        "gather": {
          "logged": 1744965103069
        }
      },
      "id": "eb2f4a9b-be22-4f45-a421-35d501ab4a18"
    },
    {
      "cell_type": "code",
      "source": [
        "import onnxruntime_genai as og\n",
        "import numpy as np\n",
        "import os"
      ],
      "outputs": [],
      "execution_count": 3,
      "metadata": {
        "vscode": {
          "languageId": "plaintext"
        },
        "gather": {
          "logged": 1744965109605
        }
      },
      "id": "e81c41fc"
    },
    {
      "cell_type": "code",
      "source": [
        "model_folder = \"./models/phi-4-mini/onnx/model\""
      ],
      "outputs": [],
      "execution_count": 4,
      "metadata": {
        "vscode": {
          "languageId": "plaintext"
        },
        "gather": {
          "logged": 1744965112312
        }
      },
      "id": "47c437d8"
    },
    {
      "cell_type": "code",
      "source": [
        "model = og.Model(model_folder)"
      ],
      "outputs": [],
      "execution_count": 5,
      "metadata": {
        "vscode": {
          "languageId": "plaintext"
        },
        "gather": {
          "logged": 1744965152627
        }
      },
      "id": "cc07d165"
    },
    {
      "cell_type": "code",
      "source": [
        "adapters = og.Adapters(model)\n",
        "adapters.load('./models/phi-4-mini/onnx/model/adapter_weights.onnx_adapter', \"qa_choice\")"
      ],
      "outputs": [],
      "execution_count": 6,
      "metadata": {
        "vscode": {
          "languageId": "plaintext"
        },
        "gather": {
          "logged": 1744965153242
        }
      },
      "id": "597bf101"
    },
    {
      "cell_type": "code",
      "source": [
        "tokenizer = og.Tokenizer(model)\n",
        "tokenizer_stream = tokenizer.create_stream()"
      ],
      "outputs": [],
      "execution_count": 7,
      "metadata": {
        "vscode": {
          "languageId": "plaintext"
        },
        "gather": {
          "logged": 1744965153908
        }
      },
      "id": "d65e7217"
    },
    {
      "cell_type": "code",
      "source": [
        "search_options = {}\n",
        "search_options['max_length'] = 102\n",
        "search_options['past_present_share_buffer'] = False"
      ],
      "outputs": [],
      "execution_count": 8,
      "metadata": {
        "vscode": {
          "languageId": "plaintext"
        },
        "gather": {
          "logged": 1744965154018
        }
      },
      "id": "1a92eb5d"
    },
    {
      "cell_type": "code",
      "source": [
        "input = \"Answer the following multiple-choice question by selecting the correct option.\\n\\nQuestion: The sanctions against the school were a punishing blow, and they seemed to what the efforts the school had made to change?\\nAnswer Choices:\\n(A) ignore\\n(B) enforce\\n(C) authoritarian\\n(D) yell at\\n(E) avoid\""
      ],
      "outputs": [],
      "execution_count": 9,
      "metadata": {
        "vscode": {
          "languageId": "plaintext"
        },
        "gather": {
          "logged": 1744965154126
        }
      },
      "id": "c6a9f4fc"
    },
    {
      "cell_type": "code",
      "source": [
        "chat_template = \"</system>You are a helpful assistant. Your output should only be one of the five choices: 'A', 'B', 'C', 'D', or 'E'.<|end|><|user|>{input}<|end|><|assistant|>\""
      ],
      "outputs": [],
      "execution_count": 10,
      "metadata": {
        "vscode": {
          "languageId": "plaintext"
        },
        "gather": {
          "logged": 1744965154242
        }
      },
      "id": "deec901b"
    },
    {
      "cell_type": "code",
      "source": [
        "prompt = f'{chat_template.format(input=input)}'"
      ],
      "outputs": [],
      "execution_count": 11,
      "metadata": {
        "vscode": {
          "languageId": "plaintext"
        },
        "gather": {
          "logged": 1744965154345
        }
      },
      "id": "73c5e734"
    },
    {
      "cell_type": "code",
      "source": [
        "input_tokens = tokenizer.encode(prompt)"
      ],
      "outputs": [],
      "execution_count": 12,
      "metadata": {
        "vscode": {
          "languageId": "plaintext"
        },
        "gather": {
          "logged": 1744965154448
        }
      },
      "id": "40d0e26d"
    },
    {
      "cell_type": "code",
      "source": [
        "params = og.GeneratorParams(model)\n",
        "params.set_search_options(**search_options)\n",
        "generator = og.Generator(model, params)"
      ],
      "outputs": [],
      "execution_count": 13,
      "metadata": {
        "vscode": {
          "languageId": "plaintext"
        },
        "gather": {
          "logged": 1744965154554
        }
      },
      "id": "59ab288b"
    },
    {
      "cell_type": "code",
      "source": [
        "generator.set_active_adapter(adapters, \"qa_choice\")"
      ],
      "outputs": [],
      "execution_count": 14,
      "metadata": {
        "vscode": {
          "languageId": "plaintext"
        },
        "gather": {
          "logged": 1744965154650
        }
      },
      "id": "5f258a8b"
    },
    {
      "cell_type": "code",
      "source": [
        "generator.append_tokens(input_tokens)"
      ],
      "outputs": [],
      "execution_count": 15,
      "metadata": {
        "vscode": {
          "languageId": "plaintext"
        },
        "gather": {
          "logged": 1744965155567
        }
      },
      "id": "fa4e0133"
    },
    {
      "cell_type": "code",
      "source": [
        "while not generator.is_done():\n",
        "            generator.generate_next_token()\n",
        "\n",
        "            new_token = generator.get_next_tokens()[0]\n",
        "            print(tokenizer_stream.decode(new_token), end='', flush=True)"
      ],
      "outputs": [
        {
          "output_type": "stream",
          "name": "stdout",
          "text": "A"
        }
      ],
      "execution_count": 16,
      "metadata": {
        "vscode": {
          "languageId": "plaintext"
        },
        "gather": {
          "logged": 1744965155679
        }
      },
      "id": "a12abc97"
    }
  ],
  "metadata": {
    "language_info": {
      "name": "python",
      "version": "3.10.15",
      "mimetype": "text/x-python",
      "codemirror_mode": {
        "name": "ipython",
        "version": 3
      },
      "pygments_lexer": "ipython3",
      "nbconvert_exporter": "python",
      "file_extension": ".py"
    },
    "microsoft": {
      "ms_spell_check": {
        "ms_spell_check_language": "en"
      }
    },
    "kernelspec": {
      "name": "python38-azureml-pt-tf",
      "language": "python",
      "display_name": "Python 3.10 - Pytorch and Tensorflow"
    },
    "kernel_info": {
      "name": "python38-azureml-pt-tf"
    },
    "nteract": {
      "version": "nteract-front-end@1.0.0"
    }
  },
  "nbformat": 4,
  "nbformat_minor": 5
}