{
 "cells": [
  {
   "cell_type": "markdown",
   "id": "ba9f2007",
   "metadata": {},
   "source": [
    " Login to your azure account az login - device\n",
    "\n",
    " Ensure you change the Kernel to Python 3.10 PyTorch and Tensorflow"
   ]
  },
  {
   "cell_type": "code",
   "execution_count": null,
   "id": "eb2f4a9b-be22-4f45-a421-35d501ab4a18",
   "metadata": {
    "gather": {
     "logged": 1744965103069
    }
   },
   "outputs": [],
   "source": [
    "! pip install onnxruntime-genai==0.7.0 --pre"
   ]
  },
  {
   "cell_type": "code",
   "execution_count": null,
   "id": "e81c41fc",
   "metadata": {
    "gather": {
     "logged": 1744965109605
    },
    "vscode": {
     "languageId": "plaintext"
    }
   },
   "outputs": [],
   "source": [
    "import onnxruntime_genai as og\n",
    "import numpy as np\n",
    "import os"
   ]
  },
  {
   "cell_type": "code",
   "execution_count": null,
   "id": "47c437d8",
   "metadata": {
    "gather": {
     "logged": 1744965112312
    },
    "vscode": {
     "languageId": "plaintext"
    }
   },
   "outputs": [],
   "source": [
    "model_folder = \"./models/phi-4-mini/onnx/model\""
   ]
  },
  {
   "cell_type": "code",
   "execution_count": null,
   "id": "cc07d165",
   "metadata": {
    "gather": {
     "logged": 1744965152627
    },
    "vscode": {
     "languageId": "plaintext"
    }
   },
   "outputs": [],
   "source": [
    "model = og.Model(model_folder)"
   ]
  },
  {
   "cell_type": "code",
   "execution_count": null,
   "id": "597bf101",
   "metadata": {
    "gather": {
     "logged": 1744965153242
    },
    "vscode": {
     "languageId": "plaintext"
    }
   },
   "outputs": [],
   "source": [
    "adapters = og.Adapters(model)\n",
    "adapters.load('./models/phi-4-mini/onnx/model/adapter_weights.onnx_adapter', \"qa_choice\")"
   ]
  },
  {
   "cell_type": "code",
   "execution_count": null,
   "id": "d65e7217",
   "metadata": {
    "gather": {
     "logged": 1744965153908
    },
    "vscode": {
     "languageId": "plaintext"
    }
   },
   "outputs": [],
   "source": [
    "tokenizer = og.Tokenizer(model)\n",
    "tokenizer_stream = tokenizer.create_stream()"
   ]
  },
  {
   "cell_type": "code",
   "execution_count": null,
   "id": "1a92eb5d",
   "metadata": {
    "gather": {
     "logged": 1744965154018
    },
    "vscode": {
     "languageId": "plaintext"
    }
   },
   "outputs": [],
   "source": [
    "search_options = {}\n",
    "search_options['max_length'] = 102\n",
    "search_options['past_present_share_buffer'] = False"
   ]
  },
  {
   "cell_type": "code",
   "execution_count": null,
   "id": "c6a9f4fc",
   "metadata": {
    "gather": {
     "logged": 1744965154126
    },
    "vscode": {
     "languageId": "plaintext"
    }
   },
   "outputs": [],
   "source": [
    "input = \"Answer the following multiple-choice question by selecting the correct option.\\n\\nQuestion: The sanctions against the school were a punishing blow, and they seemed to what the efforts the school had made to change?\\nAnswer Choices:\\n(A) ignore\\n(B) enforce\\n(C) authoritarian\\n(D) yell at\\n(E) avoid\""
   ]
  },
  {
   "cell_type": "code",
   "execution_count": null,
   "id": "deec901b",
   "metadata": {
    "gather": {
     "logged": 1744965154242
    },
    "vscode": {
     "languageId": "plaintext"
    }
   },
   "outputs": [],
   "source": [
    "chat_template = \"</system>You are a helpful assistant. Your output should only be one of the five choices: 'A', 'B', 'C', 'D', or 'E'.<|end|><|user|>{input}<|end|><|assistant|>\""
   ]
  },
  {
   "cell_type": "code",
   "execution_count": null,
   "id": "73c5e734",
   "metadata": {
    "gather": {
     "logged": 1744965154345
    },
    "vscode": {
     "languageId": "plaintext"
    }
   },
   "outputs": [],
   "source": [
    "prompt = f'{chat_template.format(input=input)}'"
   ]
  },
  {
   "cell_type": "code",
   "execution_count": null,
   "id": "40d0e26d",
   "metadata": {
    "gather": {
     "logged": 1744965154448
    },
    "vscode": {
     "languageId": "plaintext"
    }
   },
   "outputs": [],
   "source": [
    "input_tokens = tokenizer.encode(prompt)"
   ]
  },
  {
   "cell_type": "code",
   "execution_count": null,
   "id": "59ab288b",
   "metadata": {
    "gather": {
     "logged": 1744965154554
    },
    "vscode": {
     "languageId": "plaintext"
    }
   },
   "outputs": [],
   "source": [
    "params = og.GeneratorParams(model)\n",
    "params.set_search_options(**search_options)\n",
    "generator = og.Generator(model, params)"
   ]
  },
  {
   "cell_type": "code",
   "execution_count": null,
   "id": "5f258a8b",
   "metadata": {
    "gather": {
     "logged": 1744965154650
    },
    "vscode": {
     "languageId": "plaintext"
    }
   },
   "outputs": [],
   "source": [
    "generator.set_active_adapter(adapters, \"qa_choice\")"
   ]
  },
  {
   "cell_type": "code",
   "execution_count": null,
   "id": "fa4e0133",
   "metadata": {
    "gather": {
     "logged": 1744965155567
    },
    "vscode": {
     "languageId": "plaintext"
    }
   },
   "outputs": [],
   "source": [
    "generator.append_tokens(input_tokens)"
   ]
  },
  {
   "cell_type": "code",
   "execution_count": null,
   "id": "a12abc97",
   "metadata": {
    "gather": {
     "logged": 1744965155679
    },
    "vscode": {
     "languageId": "plaintext"
    }
   },
   "outputs": [],
   "source": [
    "while not generator.is_done():\n",
    "            generator.generate_next_token()\n",
    "\n",
    "            new_token = generator.get_next_tokens()[0]\n",
    "            print(tokenizer_stream.decode(new_token), end='', flush=True)"
   ]
  }
 ],
 "metadata": {
  "kernel_info": {
   "name": "python38-azureml-pt-tf"
  },
  "kernelspec": {
   "display_name": "Python 3.10 - Pytorch and Tensorflow",
   "language": "python",
   "name": "python38-azureml-pt-tf"
  },
  "language_info": {
   "codemirror_mode": {
    "name": "ipython",
    "version": 3
   },
   "file_extension": ".py",
   "mimetype": "text/x-python",
   "name": "python",
   "nbconvert_exporter": "python",
   "pygments_lexer": "ipython3",
   "version": "3.10.15"
  },
  "microsoft": {
   "ms_spell_check": {
    "ms_spell_check_language": "en"
   }
  },
  "nteract": {
   "version": "nteract-front-end@1.0.0"
  }
 },
 "nbformat": 4,
 "nbformat_minor": 5
}
