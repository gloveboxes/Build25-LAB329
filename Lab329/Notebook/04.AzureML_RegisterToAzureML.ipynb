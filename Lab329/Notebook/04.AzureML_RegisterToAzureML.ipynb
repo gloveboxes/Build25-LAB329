{
 "cells": [
  {
   "cell_type": "markdown",
   "id": "69b50f83",
   "metadata": {
    "vscode": {
     "languageId": "plaintext"
    }
   },
   "source": [
    " Login to your azure account az login - device\n",
    "\n",
    " Ensure you change the kernel to Python 3.10 AzureML"
   ]
  },
  {
   "cell_type": "code",
   "execution_count": null,
   "id": "cd984981",
   "metadata": {},
   "outputs": [],
   "source": [
    "pip install python-dotenv"
   ]
  },
  {
   "cell_type": "code",
   "execution_count": null,
   "id": "396c4d1c",
   "metadata": {
    "gather": {
     "logged": 1744965197769
    }
   },
   "outputs": [],
   "source": [
    "from azure.ai.ml.entities import Model\n",
    "from azure.ai.ml.constants import AssetTypes"
   ]
  },
  {
   "cell_type": "code",
   "execution_count": 4,
   "id": "addfb781-18a7-43de-8a96-7abd05f1afdb",
   "metadata": {
    "gather": {
     "logged": 1744965347656
    }
   },
   "outputs": [],
   "source": [
    "from azure.ai.ml import MLClient, Input\n",
    "from azure.ai.ml.entities import Model\n",
    "from azure.ai.ml.constants import AssetTypes\n",
    "from azure.identity import DefaultAzureCredential"
   ]
  },
  {
   "cell_type": "code",
   "execution_count": null,
   "id": "5d610fda",
   "metadata": {},
   "outputs": [],
   "source": [
    "import os\n",
    "from dotenv import load_dotenv\n",
    "\n",
    "# Load environment variables from local.env file\n",
    "load_dotenv('local.env')"
   ]
  },
  {
   "cell_type": "code",
   "execution_count": null,
   "id": "72a4d517-9a38-4e51-865f-8da9872b8c82",
   "metadata": {
    "gather": {
     "logged": 1744965492004
    }
   },
   "outputs": [],
   "source": [
    "# Get Azure ML credentials from environment variables\n",
    "subscription_id = os.getenv('AZUREML_SUBSCRIPTION_ID')\n",
    "resource_group = os.getenv('AZUREML_RESOURCE_GROUP')\n",
    "workspace = os.getenv('AZUREML_WS_NAME')\n",
    "\n",
    "# Print values for debugging (remove in production)\n",
    "print(f\"Subscription ID: {subscription_id}\")\n",
    "print(f\"Resource Group: {resource_group}\")\n",
    "print(f\"Workspace: {workspace}\")\n",
    "\n",
    "# Create ML client with the credentials\n",
    "ml_client = MLClient(DefaultAzureCredential(), subscription_id, resource_group, workspace)"
   ]
  },
  {
   "cell_type": "code",
   "execution_count": null,
   "id": "acba2912",
   "metadata": {
    "gather": {
     "logged": 1744965494273
    }
   },
   "outputs": [],
   "source": [
    "file_model = Model(\n",
    "    path=\"models/phi-4-mini/onnx\",\n",
    "    type=AssetTypes.CUSTOM_MODEL,\n",
    "    name=\"fine-tuning-phi-4-mini-onnx-int4-cpu\",\n",
    "    description=\"Fine tuning by MSOlive\",\n",
    ")"
   ]
  },
  {
   "cell_type": "code",
   "execution_count": null,
   "id": "34c6f0fc-7869-4fef-8675-acbe625c610c",
   "metadata": {
    "gather": {
     "logged": 1744965548069
    }
   },
   "outputs": [
    {
     "name": "stderr",
     "output_type": "stream",
     "text": [
      "Your file exceeds 100 MB. If you experience low speeds, latency, or broken connections, we recommend using the AzCopyv10 tool for this file transfer.\n",
      "\n",
      "Example: azcopy copy '/mnt/batch/tasks/shared/LS_root/mounts/clusters/a100compute/code/Users/lokinfey/workshop/models/phi-4-mini/onnx' 'https://slmworkshop2695423610.blob.core.windows.net/azureml-blobstore-4f739eb1-140b-41a8-8084-8620be2bb1a0/LocalUpload/7740bb718f31d0f7a1fdda75912ad291/onnx' \n",
      "\n",
      "See https://learn.microsoft.com/azure/storage/common/storage-use-azcopy-v10 for more information.\n",
      "\u001b[32mUploading onnx (4975.45 MBs): 100%|██████████| 4975451725/4975451725 [00:11<00:00, 428081869.68it/s]\n",
      "\u001b[39m\n",
      "\n"
     ]
    },
    {
     "data": {
      "text/plain": [
       "Model({'job_name': None, 'intellectual_property': None, 'system_metadata': None, 'is_anonymous': False, 'auto_increment_version': False, 'auto_delete_setting': None, 'name': 'fine-tuning-phi-4-mini-onnx-int4-cpu', 'description': 'Fine tuning by MSOlive', 'tags': {}, 'properties': {}, 'print_as_yaml': False, 'id': '/subscriptions/901e11c6-42ed-4fcc-875a-6bd77390af5b/resourceGroups/AzureAIGroup/providers/Microsoft.MachineLearningServices/workspaces/slm-workshop/models/fine-tuning-phi-4-mini-onnx-int4-cpu/versions/1', 'Resource__source_path': '', 'base_path': '/mnt/batch/tasks/shared/LS_root/mounts/clusters/a100compute/code/Users/lokinfey/workshop', 'creation_context': <azure.ai.ml.entities._system_data.SystemData object at 0x7974da432020>, 'serialize': <msrest.serialization.Serializer object at 0x7974d997f5b0>, 'version': '1', 'latest_version': None, 'path': 'azureml://subscriptions/901e11c6-42ed-4fcc-875a-6bd77390af5b/resourceGroups/AzureAIGroup/workspaces/slm-workshop/datastores/workspaceblobstore/paths/LocalUpload/7740bb718f31d0f7a1fdda75912ad291/onnx', 'datastore': None, 'utc_time_created': None, 'flavors': None, 'arm_type': 'model_version', 'type': 'custom_model', 'stage': 'Development'})"
      ]
     },
     "execution_count": 7,
     "metadata": {},
     "output_type": "execute_result"
    }
   ],
   "source": [
    "registered_model = ml_client.models.create_or_update(file_model)"
   ]
  },
  {
   "cell_type": "code",
   "execution_count": null,
   "id": "3e01a21d-7cfb-4922-80a7-73b4223db73e",
   "metadata": {},
   "outputs": [],
   "source": [
    "# Display model details\n",
    "print(f\"Model Name: {registered_model.name}\")\n",
    "print(f\"Model ID: {registered_model.id}\")\n",
    "print(f\"Model Version: {registered_model.version}\")\n",
    "print(f\"Model Description: {registered_model.description}\")\n",
    "print(f\"\\nModel Location: {registered_model.path}\")\n",
    "print(f\"\\nFull Model Properties:\")\n",
    "for key, value in registered_model.__dict__.items():\n",
    "    print(f\"{key}: {value}\")"
   ]
  }
 ],
 "metadata": {
  "kernel_info": {
   "name": "python38-azureml"
  },
  "kernelspec": {
   "display_name": "Python 3.10 - AzureML",
   "language": "python",
   "name": "python38-azureml"
  },
  "language_info": {
   "codemirror_mode": {
    "name": "ipython",
    "version": 3
   },
   "file_extension": ".py",
   "mimetype": "text/x-python",
   "name": "python",
   "nbconvert_exporter": "python",
   "pygments_lexer": "ipython3",
   "version": "3.10.11"
  },
  "microsoft": {
   "ms_spell_check": {
    "ms_spell_check_language": "en"
   }
  },
  "nteract": {
   "version": "nteract-front-end@1.0.0"
  }
 },
 "nbformat": 4,
 "nbformat_minor": 5
}
